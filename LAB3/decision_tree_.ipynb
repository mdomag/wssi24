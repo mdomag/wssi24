{
  "nbformat": 4,
  "nbformat_minor": 0,
  "metadata": {
    "colab": {
      "provenance": [],
      "authorship_tag": "ABX9TyMwBccRWbnoijDvSR1X3Hft",
      "include_colab_link": true
    },
    "kernelspec": {
      "name": "python3",
      "display_name": "Python 3"
    },
    "language_info": {
      "name": "python"
    }
  },
  "cells": [
    {
      "cell_type": "markdown",
      "metadata": {
        "id": "view-in-github",
        "colab_type": "text"
      },
      "source": [
        "<a href=\"https://colab.research.google.com/github/mdomag/wssi24/blob/main/decision_tree_.ipynb\" target=\"_parent\"><img src=\"https://colab.research.google.com/assets/colab-badge.svg\" alt=\"Open In Colab\"/></a>"
      ]
    },
    {
      "cell_type": "code",
      "execution_count": 1,
      "metadata": {
        "id": "SAgf3rTXqLRZ"
      },
      "outputs": [],
      "source": [
        "import numpy as np\n",
        "from collections import Counter\n",
        "\n",
        "class Node:\n",
        "    #*, value=None => value must be passed as keyword argument (explicitly named)\n",
        "    def __init__(self, feature=None, threshold=None, left=None, right=None, *, value=None):\n",
        "        self.feature = feature\n",
        "        self.threshold = threshold\n",
        "        self.left = left\n",
        "        self.right = right\n",
        "        self.value = value\n",
        "\n",
        "    #only leaf nodes have value\n",
        "    def is_leaf_node(self):\n",
        "        return self.value is not None\n",
        "\n",
        "class DecisionTree:\n",
        "    #n_features = number of features, greedy search over all the features, can loop over the randomized subset\n",
        "    def __init__(self, min_samples_split=2, max_depth=100, n_features=None):\n",
        "        self.min_samples_split = min_samples_split\n",
        "        self.max_depth = max_depth\n",
        "        self.n_features = n_features\n",
        "        self.root = None #start of tree traversal\n",
        "\n",
        "    #X = ([samples], [features])\n",
        "    def fit(self, X, y):\n",
        "        #if n_features is none choose maximum number of features, check if the n_features is not greater than the max\n",
        "        if self.n_features:\n",
        "                min(X.shape[1], self.n_features)\n",
        "        else:\n",
        "            self.n_features = X.shape[1]\n",
        "        #print(\"X.shape[1]: \", X.shape[1])\n",
        "        #print(\"X: \", X)\n",
        "        self.root = self._grow_tree(X, y)\n",
        "\n",
        "    def _grow_tree(self, X, y, depth=0):\n",
        "        n_samples, n_features = X.shape\n",
        "        n_labels = len(np.unique(y))\n",
        "\n",
        "        #stopping criteria\n",
        "        if depth >= self.max_depth or n_samples < self.min_samples_split or n_labels == 1:\n",
        "            counter = Counter(y)\n",
        "            leaf_value = counter.most_common(1)[0][0] #the most common\n",
        "            return Node(value=leaf_value)\n",
        "\n",
        "        feature_indexes = np.random.choice(n_features, self.n_features, replace=False)\n",
        "        best_threshold, best_feature = self._best_split(X, y, feature_indexes)\n",
        "\n",
        "        left_indexes, right_indexes = self._split(X[:, best_feature], best_threshold)\n",
        "        left = self._grow_tree(X[left_indexes,: ], y[left_indexes], depth+1)\n",
        "        right= self._grow_tree(X[right_indexes,: ], y[right_indexes], depth+1)\n",
        "        return Node(best_feature, best_threshold, left, right)\n",
        "\n",
        "    def _best_split(self, X, y, feat_idxs):\n",
        "        best_gain = -1\n",
        "        split_index, split_threshold = None, None\n",
        "        for feature_index in feat_idxs:\n",
        "            X_column = X[:, feature_index]\n",
        "            thresholds = np.unique(X_column)\n",
        "            for threshold in thresholds:\n",
        "                gain = self._information_gain(y, X_column, threshold)\n",
        "                if gain > best_gain:\n",
        "                    best_gain = gain\n",
        "                    split_threshold = threshold\n",
        "                    split_index = feature_index\n",
        "        return split_threshold, split_index\n",
        "\n",
        "    #how much information is gained by splitting on different features\n",
        "    def _information_gain(self, y, X_column, threshold):\n",
        "        #information gain = entropy(parent) - [average entropy(children)]\n",
        "        parent_entropy = self._entropy(y)\n",
        "\n",
        "        left_indexes, right_indexes = self._split(X_column, threshold)\n",
        "\n",
        "        n_left = len(left_indexes)\n",
        "        n_right = len(right_indexes)\n",
        "\n",
        "        if not(n_left or n_right):\n",
        "            return 0\n",
        "\n",
        "        n_both = len(y)\n",
        "\n",
        "        left_entropy = self._entropy(y[left_indexes])\n",
        "        right_entropy = self._entropy(y[right_indexes])\n",
        "        average_child_entropy = (n_left/n_both) * left_entropy +  (n_right/n_both) * right_entropy\n",
        "\n",
        "        information_gain = parent_entropy - average_child_entropy\n",
        "        return information_gain\n",
        "\n",
        "    #split by split_threshold, left <= threshold\n",
        "    def _split(self, X_column, split_threshold):\n",
        "        left_indexes = [index for index, value in enumerate(X_column) if value <= split_threshold and value is not None]\n",
        "        #print(left_indexes)\n",
        "        right_indexes = [index for index, value in enumerate(X_column) if value > split_threshold and value is not None]\n",
        "\n",
        "        return left_indexes, right_indexes\n",
        "\n",
        "    def _entropy(self, y):\n",
        "        hist = np.bincount(y)\n",
        "        ps = hist/len(y)\n",
        "        return -np.sum([p * np.log(p) for p in ps if p>0])\n",
        "\n",
        "    def _traverse_tree(self, X, node):\n",
        "        if node.is_leaf_node():\n",
        "            return node.value\n",
        "        elif X[node.feature] <= node.threshold:\n",
        "            return self._traverse_tree(X, node.left)\n",
        "        else:\n",
        "            return self._traverse_tree(X, node.right)\n",
        "\n",
        "    def predict(self, X):\n",
        "        return np.array([self._traverse_tree(x, self.root) for x in X])"
      ]
    },
    {
      "cell_type": "code",
      "source": [
        "from sklearn import datasets\n",
        "from sklearn.model_selection import train_test_split\n",
        "#from decision_tree import DecisionTree\n",
        "import numpy as np\n",
        "\n",
        "data = datasets.load_iris()\n",
        "X, y = data.data, data.target\n",
        "X_train, X_test, y_train, y_test = train_test_split(X, y, test_size=0.2, random_state=1234)\n",
        "clf = DecisionTree(max_depth=10)\n",
        "clf.fit(X_train, y_train)\n",
        "predictions = clf.predict(X_test)\n",
        "\n",
        "def accuracy(y_test, y_pred):\n",
        "    return np.sum(y_test == y_pred) / len(y_test)\n",
        "\n",
        "acc = accuracy(y_test, predictions)\n",
        "print(acc)"
      ],
      "metadata": {
        "colab": {
          "base_uri": "https://localhost:8080/"
        },
        "id": "ERzVunCPqtY7",
        "outputId": "d5d08e64-79c7-4eb6-8e4f-6f49ece870aa"
      },
      "execution_count": 4,
      "outputs": [
        {
          "output_type": "stream",
          "name": "stdout",
          "text": [
            "0.9666666666666667\n"
          ]
        }
      ]
    }
  ]
}
